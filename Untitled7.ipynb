{
  "nbformat": 4,
  "nbformat_minor": 0,
  "metadata": {
    "colab": {
      "name": "Untitled7.ipynb",
      "provenance": []
    },
    "kernelspec": {
      "name": "python3",
      "display_name": "Python 3"
    },
    "language_info": {
      "name": "python"
    }
  },
  "cells": [
    {
      "cell_type": "code",
      "execution_count": null,
      "metadata": {
        "id": "dxpi_L7xBtoL"
      },
      "outputs": [],
      "source": [
        "import requests\n",
        "from bs4 import BeautifulSoup\n",
        "url = \"file:///C:/Users/Advait%20C/Desktop/Coding/PBL/Air_Pollution_Data.html\"\n",
        "r = requests.get(url)\n",
        "htmlContent = r.content\n",
        "soup = BeautifulSoup(htmlContent, 'html.parser')\n",
        "print(soup.prettify) \n",
        "\n",
        "\n",
        "# Import the required libraries\n",
        "old_text=soup.find(\"p\", {\"id\":\"para\"})\n",
        "\n",
        "replaceString = \",\" # replace each <br/> tag with \", \"\n",
        "# Ex. <p>Hello<br/>World</p> to <p>Hello, World</p>\n",
        "cleanSoup = BeautifulSoup(str(soup).replace(\"Hello\", replaceString))"
      ]
    }
  ]
}